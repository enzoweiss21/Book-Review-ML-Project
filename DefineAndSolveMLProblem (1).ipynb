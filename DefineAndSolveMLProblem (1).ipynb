{
 "cells": [
  {
   "cell_type": "markdown",
   "metadata": {},
   "source": [
    "# Lab 8: Define and Solve an ML Problem of Your Choosing"
   ]
  },
  {
   "cell_type": "code",
   "execution_count": 343,
   "metadata": {},
   "outputs": [],
   "source": [
    "import pandas as pd\n",
    "import numpy as np\n",
    "import os \n",
    "\n",
    "import matplotlib.pyplot as plt\n",
    "import seaborn as sns"
   ]
  },
  {
   "cell_type": "markdown",
   "metadata": {},
   "source": [
    "In this lab assignment, you will follow the machine learning life cycle and implement a model to solve a machine learning problem of your choosing. You will select a data set and choose a predictive problem that the data set supports.  You will then inspect the data with your problem in mind and begin to formulate a  project plan. You will then implement the machine learning project plan. \n",
    "\n",
    "You will complete the following tasks:\n",
    "\n",
    "1. Build Your DataFrame\n",
    "2. Define Your ML Problem\n",
    "3. Perform exploratory data analysis to understand your data.\n",
    "4. Define Your Project Plan\n",
    "5. Implement Your Project Plan:\n",
    "    * Prepare your data for your model.\n",
    "    * Fit your model to the training data and evaluate your model.\n",
    "    * Improve your model's performance."
   ]
  },
  {
   "cell_type": "markdown",
   "metadata": {},
   "source": [
    "## Part 1: Build Your DataFrame\n",
    "\n",
    "You will have the option to choose one of four data sets that you have worked with in this program:\n",
    "\n",
    "* The \"census\" data set that contains Census information from 1994: `censusData.csv`\n",
    "* Airbnb NYC \"listings\" data set: `airbnbListingsData.csv`\n",
    "* World Happiness Report (WHR) data set: `WHR2018Chapter2OnlineData.csv`\n",
    "* Book Review data set: `bookReviewsData.csv`\n",
    "\n",
    "Note that these are variations of the data sets that you have worked with in this program. For example, some do not include some of the preprocessing necessary for specific models. \n",
    "\n",
    "#### Load a Data Set and Save it as a Pandas DataFrame\n",
    "\n",
    "The code cell below contains filenames (path + filename) for each of the four data sets available to you.\n",
    "\n",
    "<b>Task:</b> In the code cell below, use the same method you have been using to load the data using `pd.read_csv()` and save it to DataFrame `df`. \n",
    "\n",
    "You can load each file as a new DataFrame to inspect the data before choosing your data set."
   ]
  },
  {
   "cell_type": "markdown",
   "metadata": {},
   "source": [
    "This cell constructs absolute paths for all four available CSV files, loads bookReviewsData.csv into a Pandas DataFrame called df, and shows the first five rows so i can verify the data loaded correctly."
   ]
  },
  {
   "cell_type": "code",
   "execution_count": 344,
   "metadata": {},
   "outputs": [
    {
     "data": {
      "text/html": [
       "<div>\n",
       "<style scoped>\n",
       "    .dataframe tbody tr th:only-of-type {\n",
       "        vertical-align: middle;\n",
       "    }\n",
       "\n",
       "    .dataframe tbody tr th {\n",
       "        vertical-align: top;\n",
       "    }\n",
       "\n",
       "    .dataframe thead th {\n",
       "        text-align: right;\n",
       "    }\n",
       "</style>\n",
       "<table border=\"1\" class=\"dataframe\">\n",
       "  <thead>\n",
       "    <tr style=\"text-align: right;\">\n",
       "      <th></th>\n",
       "      <th>Review</th>\n",
       "      <th>Positive Review</th>\n",
       "    </tr>\n",
       "  </thead>\n",
       "  <tbody>\n",
       "    <tr>\n",
       "      <th>0</th>\n",
       "      <td>This was perhaps the best of Johannes Steinhof...</td>\n",
       "      <td>True</td>\n",
       "    </tr>\n",
       "    <tr>\n",
       "      <th>1</th>\n",
       "      <td>This very fascinating book is a story written ...</td>\n",
       "      <td>True</td>\n",
       "    </tr>\n",
       "    <tr>\n",
       "      <th>2</th>\n",
       "      <td>The four tales in this collection are beautifu...</td>\n",
       "      <td>True</td>\n",
       "    </tr>\n",
       "    <tr>\n",
       "      <th>3</th>\n",
       "      <td>The book contained more profanity than I expec...</td>\n",
       "      <td>False</td>\n",
       "    </tr>\n",
       "    <tr>\n",
       "      <th>4</th>\n",
       "      <td>We have now entered a second time of deep conc...</td>\n",
       "      <td>True</td>\n",
       "    </tr>\n",
       "  </tbody>\n",
       "</table>\n",
       "</div>"
      ],
      "text/plain": [
       "                                              Review  Positive Review\n",
       "0  This was perhaps the best of Johannes Steinhof...             True\n",
       "1  This very fascinating book is a story written ...             True\n",
       "2  The four tales in this collection are beautifu...             True\n",
       "3  The book contained more profanity than I expec...            False\n",
       "4  We have now entered a second time of deep conc...             True"
      ]
     },
     "execution_count": 344,
     "metadata": {},
     "output_type": "execute_result"
    }
   ],
   "source": [
    "# File names of the four data sets\n",
    "adultDataSet_filename = os.path.join(os.getcwd(), \"data\", \"censusData.csv\")\n",
    "airbnbDataSet_filename = os.path.join(os.getcwd(), \"data\", \"airbnbListingsData.csv\")\n",
    "WHRDataSet_filename = os.path.join(os.getcwd(), \"data\", \"WHR2018Chapter2OnlineData.csv\")\n",
    "bookReviewDataSet_filename = os.path.join(os.getcwd(), \"data\", \"bookReviewsData.csv\")\n",
    "\n",
    "\n",
    "df = pd.read_csv(bookReviewDataSet_filename)\n",
    "\n",
    "\n",
    "\n",
    "df.head()\n"
   ]
  },
  {
   "cell_type": "markdown",
   "metadata": {},
   "source": [
    "## Part 2: Define Your ML Problem\n",
    "\n",
    "Next you will formulate your ML Problem. In the markdown cell below, answer the following questions:\n",
    "\n",
    "1. List the data set you have chosen.\n",
    "2. What will you be predicting? What is the label?\n",
    "3. Is this a supervised or unsupervised learning problem? Is this a clustering, classification or regression problem? Is it a binary classificaiton or multi-class classifiction problem?\n",
    "4. What are your features? (note: this list may change after your explore your data)\n",
    "5. Explain why this is an important problem. In other words, how would a company create value with a model that predicts this label?"
   ]
  },
  {
   "cell_type": "markdown",
   "metadata": {},
   "source": [
    "1 I have chosen the Book Reviews dataset\n",
    "\n",
    "2 I will be predicting whether each review is positive or negative, using the `Positive Review` column as my label.\n",
    "\n",
    "3  This is a supervised learning problem focused on binary classification, since each review is labeled as either positive or negative.\n",
    "\n",
    "4  My primary features will be the raw review text from the `Review` column, which I will convert into TF‑IDF vectors of unigrams and bigrams; I also plan to engineer additional numeric features such as review length, counts of positive/negative words from a sentiment lexicon, and average word length.\n",
    "\n",
    "5  Building a model to predict review sentiment creates business value by enabling automated monitoring of customer satisfaction trends, surfacing common praises or complaints for product improvement, personalizing recommendations based on sentiment, automating moderation workflows, and reducing the time and cost of manual feedback analysis."
   ]
  },
  {
   "cell_type": "code",
   "execution_count": null,
   "metadata": {},
   "outputs": [],
   "source": []
  },
  {
   "cell_type": "markdown",
   "metadata": {},
   "source": [
    "Part 3: Understand Your Data\n",
    "The next step is to perform exploratory data analysis. Inspect and analyze your data set with your machine learning problem in mind. Consider the following as you\n",
    "1. What data preparation techniques would you like to use? These data preparation techniques may include:\n",
    "2. addressing missingness, such as replacing missing values with means\n",
    "3. finding and replacing outliers\n",
    "4. renaming features and labels\n",
    "5. finding and replacing outliers\n",
    "6. performing feature engineering techniques such as one-hot encoding on categorical features\n",
    "7. selecting appropriate features and removing irrelevant features\n",
    "8. performing specific data cleaning and preprocessing techniques for an NLP problem\n",
    "9. addressing class imbalance in your data sample to promote fair AI\n",
    "10. What machine learning model (or models) you would like to use that is suitable for your predictive problem and data?\n",
    "11. Are there other data preparation techniques that you will need to apply to build a balanced modeling data set for your problem and model? For example, will you need to scale your data?\n",
    "12. How will you evaluate and improve the model's performance?\n",
    "13. Are there specific evaluation metrics and methods that are appropriate for your model?\n",
    "Think of the different techniques you have used to inspect and analyze your data in this course. These include using Pandas to apply data filters, using the Pandas describe() method to get insight into key statistics for each column, using the Pandas dtypes property to inspect the data type of each column, and using Matplotlib and Seaborn to detect outliers and visualize relationships between features and labels. If you are working on a classification problem, use techniques you have learned to determine if there is class imbalance.\n",
    "Task: Use the techniques you have learned in this course to inspect and analyze your data. You can import additional packages that you have used in this course that you will need to perform this task.\n",
    "Note: You can add code cells if needed by going to the Insert menu and clicking on Insert Cell Below in the drop-drown menu."
   ]
  },
  {
   "cell_type": "markdown",
   "metadata": {},
   "source": [
    "This cell prints a quick health check of the raw data:\n",
    "\n",
    "Dataset shape – the number of rows and columns (df.shape).\n",
    "Column dtypes – the data type of each column, so you can confirm text vs. numeric vs. boolean.\n",
    "Missing-value tally -counts of NaN values per column, helping you spot any columns that need imputation or cleanup."
   ]
  },
  {
   "cell_type": "code",
   "execution_count": 345,
   "metadata": {},
   "outputs": [
    {
     "name": "stdout",
     "output_type": "stream",
     "text": [
      "Dataset shape: (1973, 2)\n",
      "Review             object\n",
      "Positive Review      bool\n",
      "dtype: object\n",
      "\n",
      "Missing values per column:\n",
      "Review             0\n",
      "Positive Review    0\n",
      "dtype: int64\n"
     ]
    }
   ],
   "source": [
    "#shape and schema\n",
    "print(f\"Dataset shape: {df.shape}\")\n",
    "print(df.dtypes)\n",
    "\n",
    "#checking for nulls\n",
    "print(\"\\nMissing values per column:\")\n",
    "print(df.isna().sum())"
   ]
  },
  {
   "cell_type": "markdown",
   "metadata": {},
   "source": [
    "Findings: We have 1,973 reviews with no missing Review or Positive Review entries. Review is object (string), Positive Review is boolean."
   ]
  },
  {
   "cell_type": "markdown",
   "metadata": {},
   "source": [
    "This cell checks whether the sentiment classes are balanced:\n",
    "\n",
    "Raw counts prints the number of positive vs. negative reviews so you can see the exact class sizes.\n",
    "Bar chart a quick visual showing the distribution of the two classes. A roughly equal height for both bars confirms class balance; a big mismatch would flag the need for resampling or class weighting later on.\n",
    "\n"
   ]
  },
  {
   "cell_type": "code",
   "execution_count": 346,
   "metadata": {
    "scrolled": true
   },
   "outputs": [
    {
     "name": "stdout",
     "output_type": "stream",
     "text": [
      "Positive: 980, Negative: 993\n"
     ]
    },
    {
     "data": {
      "image/png": "[encoded data removed]",
      "text/plain": [
       "<Figure size 640x480 with 1 Axes>"
      ]
     },
     "metadata": {},
     "output_type": "display_data"
    }
   ],
   "source": [
    "# raw counts\n",
    "count_pos = df['Positive Review'].sum()\n",
    "count_neg = (~df['Positive Review']).sum()\n",
    "print(f\"Positive: {count_pos}, Negative: {count_neg}\")\n",
    "\n",
    "# bar chart\n",
    "sns.countplot(x='Positive Review', data=df)\n",
    "plt.title(\"Class Balance: Positive vs. Negative Reviews\")\n",
    "plt.show()"
   ]
  },
  {
   "cell_type": "markdown",
   "metadata": {},
   "source": [
    "**Findings:**  \n",
    "They look balanced"
   ]
  },
  {
   "cell_type": "markdown",
   "metadata": {},
   "source": [
    "In this cell we engineer two simple length based features—`char_count` and `word_count`—then:\n",
    "\n",
    "* **Descriptive stats by class**  \n",
    "  `groupby(...).describe()` summarizes how long positive vs. negative reviews are on average (mean, quartiles, max), hinting at any systematic length differences.\n",
    "\n",
    "* **Histogram**  \n",
    "  Visualizes the overall distribution of review lengths, helping spot skew or extreme outliers that might need capping.\n",
    "\n",
    "* **Box-plot split by sentiment**  \n",
    "  Compares length distributions side by side for positive and negative reviews, making it easy to see if one class tends to be longer or shorter and whether length might be a predictive signal.\n",
    "\n",
    "These quick EDA steps confirm whether length features are worth keeping and whether any outlier handling is required.\n"
   ]
  },
  {
   "cell_type": "code",
   "execution_count": 347,
   "metadata": {},
   "outputs": [
    {
     "data": {
      "text/html": [
       "<div>\n",
       "<style scoped>\n",
       "    .dataframe tbody tr th:only-of-type {\n",
       "        vertical-align: middle;\n",
       "    }\n",
       "\n",
       "    .dataframe tbody tr th {\n",
       "        vertical-align: top;\n",
       "    }\n",
       "\n",
       "    .dataframe thead tr th {\n",
       "        text-align: left;\n",
       "    }\n",
       "\n",
       "    .dataframe thead tr:last-of-type th {\n",
       "        text-align: right;\n",
       "    }\n",
       "</style>\n",
       "<table border=\"1\" class=\"dataframe\">\n",
       "  <thead>\n",
       "    <tr>\n",
       "      <th></th>\n",
       "      <th colspan=\"8\" halign=\"left\">char_count</th>\n",
       "      <th colspan=\"8\" halign=\"left\">word_count</th>\n",
       "    </tr>\n",
       "    <tr>\n",
       "      <th></th>\n",
       "      <th>count</th>\n",
       "      <th>mean</th>\n",
       "      <th>std</th>\n",
       "      <th>min</th>\n",
       "      <th>25%</th>\n",
       "      <th>50%</th>\n",
       "      <th>75%</th>\n",
       "      <th>max</th>\n",
       "      <th>count</th>\n",
       "      <th>mean</th>\n",
       "      <th>std</th>\n",
       "      <th>min</th>\n",
       "      <th>25%</th>\n",
       "      <th>50%</th>\n",
       "      <th>75%</th>\n",
       "      <th>max</th>\n",
       "    </tr>\n",
       "    <tr>\n",
       "      <th>Positive Review</th>\n",
       "      <th></th>\n",
       "      <th></th>\n",
       "      <th></th>\n",
       "      <th></th>\n",
       "      <th></th>\n",
       "      <th></th>\n",
       "      <th></th>\n",
       "      <th></th>\n",
       "      <th></th>\n",
       "      <th></th>\n",
       "      <th></th>\n",
       "      <th></th>\n",
       "      <th></th>\n",
       "      <th></th>\n",
       "      <th></th>\n",
       "      <th></th>\n",
       "    </tr>\n",
       "  </thead>\n",
       "  <tbody>\n",
       "    <tr>\n",
       "      <th>False</th>\n",
       "      <td>993.0</td>\n",
       "      <td>1005.938570</td>\n",
       "      <td>1751.141552</td>\n",
       "      <td>59.0</td>\n",
       "      <td>349.0</td>\n",
       "      <td>617.0</td>\n",
       "      <td>1149.0</td>\n",
       "      <td>32467.0</td>\n",
       "      <td>993.0</td>\n",
       "      <td>173.978852</td>\n",
       "      <td>284.432936</td>\n",
       "      <td>12.0</td>\n",
       "      <td>62.0</td>\n",
       "      <td>112.0</td>\n",
       "      <td>201.0</td>\n",
       "      <td>5167.0</td>\n",
       "    </tr>\n",
       "    <tr>\n",
       "      <th>True</th>\n",
       "      <td>980.0</td>\n",
       "      <td>859.770408</td>\n",
       "      <td>1057.440139</td>\n",
       "      <td>64.0</td>\n",
       "      <td>314.5</td>\n",
       "      <td>553.5</td>\n",
       "      <td>1002.5</td>\n",
       "      <td>18865.0</td>\n",
       "      <td>980.0</td>\n",
       "      <td>147.734694</td>\n",
       "      <td>173.189892</td>\n",
       "      <td>11.0</td>\n",
       "      <td>57.0</td>\n",
       "      <td>96.0</td>\n",
       "      <td>172.0</td>\n",
       "      <td>2924.0</td>\n",
       "    </tr>\n",
       "  </tbody>\n",
       "</table>\n",
       "</div>"
      ],
      "text/plain": [
       "                char_count                                                \\\n",
       "                     count         mean          std   min    25%    50%   \n",
       "Positive Review                                                            \n",
       "False                993.0  1005.938570  1751.141552  59.0  349.0  617.0   \n",
       "True                 980.0   859.770408  1057.440139  64.0  314.5  553.5   \n",
       "\n",
       "                                 word_count                                \\\n",
       "                    75%      max      count        mean         std   min   \n",
       "Positive Review                                                             \n",
       "False            1149.0  32467.0      993.0  173.978852  284.432936  12.0   \n",
       "True             1002.5  18865.0      980.0  147.734694  173.189892  11.0   \n",
       "\n",
       "                                             \n",
       "                  25%    50%    75%     max  \n",
       "Positive Review                              \n",
       "False            62.0  112.0  201.0  5167.0  \n",
       "True             57.0   96.0  172.0  2924.0  "
      ]
     },
     "metadata": {},
     "output_type": "display_data"
    },
    {
     "data": {
      "image/png": "[encoded data removed]",
      "text/plain": [
       "<Figure size 800x400 with 1 Axes>"
      ]
     },
     "metadata": {},
     "output_type": "display_data"
    },
    {
     "data": {
      "image/png": "[encoded data removed]",
      "text/plain": [
       "<Figure size 600x400 with 1 Axes>"
      ]
     },
     "metadata": {},
     "output_type": "display_data"
    }
   ],
   "source": [
    "# add length features\n",
    "df['char_count'] = df['Review'].str.len()\n",
    "df['word_count'] = df['Review'].str.split().apply(len)\n",
    "\n",
    "# summary stats by class\n",
    "display(df.groupby('Positive Review')[['char_count','word_count']].describe())\n",
    "\n",
    "# histogram of character length\n",
    "plt.figure(figsize=(8,4))\n",
    "sns.histplot(df['char_count'], bins=30, kde=False)\n",
    "plt.xlabel(\"Review Length (chars)\")\n",
    "plt.title(\"Overall Review Length Distribution\")\n",
    "plt.show()\n",
    "\n",
    "# boxplot length by class\n",
    "plt.figure(figsize=(6,4))\n",
    "sns.boxplot(x='Positive Review', y='char_count', data=df)\n",
    "plt.ylim(0, 2000)\n",
    "plt.title(\"Review Length by Sentiment\")\n",
    "plt.show()"
   ]
  },
  {
   "cell_type": "markdown",
   "metadata": {},
   "source": [
    "I used a quick CountVectorizer script to pull out the 20 most common single-word terms in positive reviews and the 20 most common in negative ones. Seeing these top words side-by-side gives us a feel for the language each sentiment tends to use and lets us sanity-check which words might be influencing the model."
   ]
  },
  {
   "cell_type": "code",
   "execution_count": 348,
   "metadata": {},
   "outputs": [
    {
     "name": "stdout",
     "output_type": "stream",
     "text": [
      "Top positive words:\n"
     ]
    },
    {
     "data": {
      "text/html": [
       "<div>\n",
       "<style scoped>\n",
       "    .dataframe tbody tr th:only-of-type {\n",
       "        vertical-align: middle;\n",
       "    }\n",
       "\n",
       "    .dataframe tbody tr th {\n",
       "        vertical-align: top;\n",
       "    }\n",
       "\n",
       "    .dataframe thead th {\n",
       "        text-align: right;\n",
       "    }\n",
       "</style>\n",
       "<table border=\"1\" class=\"dataframe\">\n",
       "  <thead>\n",
       "    <tr style=\"text-align: right;\">\n",
       "      <th></th>\n",
       "      <th>word</th>\n",
       "      <th>count</th>\n",
       "    </tr>\n",
       "  </thead>\n",
       "  <tbody>\n",
       "    <tr>\n",
       "      <th>510</th>\n",
       "      <td>book</td>\n",
       "      <td>1903</td>\n",
       "    </tr>\n",
       "    <tr>\n",
       "      <th>3709</th>\n",
       "      <td>read</td>\n",
       "      <td>607</td>\n",
       "    </tr>\n",
       "    <tr>\n",
       "      <th>2632</th>\n",
       "      <td>like</td>\n",
       "      <td>316</td>\n",
       "    </tr>\n",
       "    <tr>\n",
       "      <th>1956</th>\n",
       "      <td>great</td>\n",
       "      <td>315</td>\n",
       "    </tr>\n",
       "    <tr>\n",
       "      <th>2627</th>\n",
       "      <td>life</td>\n",
       "      <td>285</td>\n",
       "    </tr>\n",
       "    <tr>\n",
       "      <th>4343</th>\n",
       "      <td>story</td>\n",
       "      <td>271</td>\n",
       "    </tr>\n",
       "    <tr>\n",
       "      <th>1917</th>\n",
       "      <td>good</td>\n",
       "      <td>268</td>\n",
       "    </tr>\n",
       "    <tr>\n",
       "      <th>2485</th>\n",
       "      <td>just</td>\n",
       "      <td>265</td>\n",
       "    </tr>\n",
       "    <tr>\n",
       "      <th>4601</th>\n",
       "      <td>time</td>\n",
       "      <td>259</td>\n",
       "    </tr>\n",
       "    <tr>\n",
       "      <th>3667</th>\n",
       "      <td>quot</td>\n",
       "      <td>250</td>\n",
       "    </tr>\n",
       "    <tr>\n",
       "      <th>511</th>\n",
       "      <td>books</td>\n",
       "      <td>245</td>\n",
       "    </tr>\n",
       "    <tr>\n",
       "      <th>3320</th>\n",
       "      <td>people</td>\n",
       "      <td>239</td>\n",
       "    </tr>\n",
       "    <tr>\n",
       "      <th>3018</th>\n",
       "      <td>new</td>\n",
       "      <td>215</td>\n",
       "    </tr>\n",
       "    <tr>\n",
       "      <th>3713</th>\n",
       "      <td>reading</td>\n",
       "      <td>201</td>\n",
       "    </tr>\n",
       "    <tr>\n",
       "      <th>3725</th>\n",
       "      <td>really</td>\n",
       "      <td>195</td>\n",
       "    </tr>\n",
       "    <tr>\n",
       "      <th>4952</th>\n",
       "      <td>work</td>\n",
       "      <td>189</td>\n",
       "    </tr>\n",
       "    <tr>\n",
       "      <th>4879</th>\n",
       "      <td>way</td>\n",
       "      <td>183</td>\n",
       "    </tr>\n",
       "    <tr>\n",
       "      <th>4957</th>\n",
       "      <td>world</td>\n",
       "      <td>166</td>\n",
       "    </tr>\n",
       "    <tr>\n",
       "      <th>455</th>\n",
       "      <td>best</td>\n",
       "      <td>164</td>\n",
       "    </tr>\n",
       "    <tr>\n",
       "      <th>4985</th>\n",
       "      <td>years</td>\n",
       "      <td>161</td>\n",
       "    </tr>\n",
       "  </tbody>\n",
       "</table>\n",
       "</div>"
      ],
      "text/plain": [
       "         word  count\n",
       "510      book   1903\n",
       "3709     read    607\n",
       "2632     like    316\n",
       "1956    great    315\n",
       "2627     life    285\n",
       "4343    story    271\n",
       "1917     good    268\n",
       "2485     just    265\n",
       "4601     time    259\n",
       "3667     quot    250\n",
       "511     books    245\n",
       "3320   people    239\n",
       "3018      new    215\n",
       "3713  reading    201\n",
       "3725   really    195\n",
       "4952     work    189\n",
       "4879      way    183\n",
       "4957    world    166\n",
       "455      best    164\n",
       "4985    years    161"
      ]
     },
     "metadata": {},
     "output_type": "display_data"
    },
    {
     "name": "stdout",
     "output_type": "stream",
     "text": [
      "Top negative words:\n"
     ]
    },
    {
     "data": {
      "text/html": [
       "<div>\n",
       "<style scoped>\n",
       "    .dataframe tbody tr th:only-of-type {\n",
       "        vertical-align: middle;\n",
       "    }\n",
       "\n",
       "    .dataframe tbody tr th {\n",
       "        vertical-align: top;\n",
       "    }\n",
       "\n",
       "    .dataframe thead th {\n",
       "        text-align: right;\n",
       "    }\n",
       "</style>\n",
       "<table border=\"1\" class=\"dataframe\">\n",
       "  <thead>\n",
       "    <tr style=\"text-align: right;\">\n",
       "      <th></th>\n",
       "      <th>word</th>\n",
       "      <th>count</th>\n",
       "    </tr>\n",
       "  </thead>\n",
       "  <tbody>\n",
       "    <tr>\n",
       "      <th>526</th>\n",
       "      <td>book</td>\n",
       "      <td>2294</td>\n",
       "    </tr>\n",
       "    <tr>\n",
       "      <th>3641</th>\n",
       "      <td>read</td>\n",
       "      <td>556</td>\n",
       "    </tr>\n",
       "    <tr>\n",
       "      <th>2617</th>\n",
       "      <td>like</td>\n",
       "      <td>524</td>\n",
       "    </tr>\n",
       "    <tr>\n",
       "      <th>2481</th>\n",
       "      <td>just</td>\n",
       "      <td>496</td>\n",
       "    </tr>\n",
       "    <tr>\n",
       "      <th>366</th>\n",
       "      <td>author</td>\n",
       "      <td>396</td>\n",
       "    </tr>\n",
       "    <tr>\n",
       "      <th>527</th>\n",
       "      <td>books</td>\n",
       "      <td>359</td>\n",
       "    </tr>\n",
       "    <tr>\n",
       "      <th>4564</th>\n",
       "      <td>time</td>\n",
       "      <td>336</td>\n",
       "    </tr>\n",
       "    <tr>\n",
       "      <th>1956</th>\n",
       "      <td>good</td>\n",
       "      <td>334</td>\n",
       "    </tr>\n",
       "    <tr>\n",
       "      <th>3271</th>\n",
       "      <td>people</td>\n",
       "      <td>333</td>\n",
       "    </tr>\n",
       "    <tr>\n",
       "      <th>1329</th>\n",
       "      <td>don</td>\n",
       "      <td>277</td>\n",
       "    </tr>\n",
       "    <tr>\n",
       "      <th>3658</th>\n",
       "      <td>really</td>\n",
       "      <td>274</td>\n",
       "    </tr>\n",
       "    <tr>\n",
       "      <th>4296</th>\n",
       "      <td>story</td>\n",
       "      <td>258</td>\n",
       "    </tr>\n",
       "    <tr>\n",
       "      <th>2517</th>\n",
       "      <td>know</td>\n",
       "      <td>257</td>\n",
       "    </tr>\n",
       "    <tr>\n",
       "      <th>3645</th>\n",
       "      <td>reading</td>\n",
       "      <td>247</td>\n",
       "    </tr>\n",
       "    <tr>\n",
       "      <th>4856</th>\n",
       "      <td>way</td>\n",
       "      <td>241</td>\n",
       "    </tr>\n",
       "    <tr>\n",
       "      <th>709</th>\n",
       "      <td>characters</td>\n",
       "      <td>227</td>\n",
       "    </tr>\n",
       "    <tr>\n",
       "      <th>1221</th>\n",
       "      <td>did</td>\n",
       "      <td>226</td>\n",
       "    </tr>\n",
       "    <tr>\n",
       "      <th>1317</th>\n",
       "      <td>does</td>\n",
       "      <td>226</td>\n",
       "    </tr>\n",
       "    <tr>\n",
       "      <th>4938</th>\n",
       "      <td>work</td>\n",
       "      <td>224</td>\n",
       "    </tr>\n",
       "    <tr>\n",
       "      <th>2731</th>\n",
       "      <td>make</td>\n",
       "      <td>223</td>\n",
       "    </tr>\n",
       "  </tbody>\n",
       "</table>\n",
       "</div>"
      ],
      "text/plain": [
       "            word  count\n",
       "526         book   2294\n",
       "3641        read    556\n",
       "2617        like    524\n",
       "2481        just    496\n",
       "366       author    396\n",
       "527        books    359\n",
       "4564        time    336\n",
       "1956        good    334\n",
       "3271      people    333\n",
       "1329         don    277\n",
       "3658      really    274\n",
       "4296       story    258\n",
       "2517        know    257\n",
       "3645     reading    247\n",
       "4856         way    241\n",
       "709   characters    227\n",
       "1221         did    226\n",
       "1317        does    226\n",
       "4938        work    224\n",
       "2731        make    223"
      ]
     },
     "metadata": {},
     "output_type": "display_data"
    }
   ],
   "source": [
    "from sklearn.feature_extraction.text import CountVectorizer\n",
    "\n",
    "def top_n_words(corpus, n=20):\n",
    "    vec = CountVectorizer(stop_words='english', max_features=5000)\n",
    "    X = vec.fit_transform(corpus)\n",
    "    freqs = np.asarray(X.sum(axis=0)).ravel()\n",
    "    # cross-version feature names\n",
    "    try:\n",
    "        words = vec.get_feature_names_out()\n",
    "    except AttributeError:\n",
    "        words = vec.get_feature_names()\n",
    "    return pd.DataFrame({'word': words, 'count': freqs}).nlargest(n, 'count')\n",
    "\n",
    "\n",
    "# Top 20 positive and negative unigrams\n",
    "pos_top = top_n_words(df.loc[df['Positive Review'], 'Review'])\n",
    "neg_top = top_n_words(df.loc[~df['Positive Review'], 'Review'])\n",
    "\n",
    "print(\"Top positive words:\")\n",
    "display(pos_top)\n",
    "\n",
    "print(\"Top negative words:\")\n",
    "display(neg_top)\n"
   ]
  },
  {
   "cell_type": "markdown",
   "metadata": {},
   "source": [
    "## Part 4: Define Your Project Plan\n",
    "\n",
    "Now that you understand your data, in the markdown cell below, define your plan to implement the remaining phases of the machine learning life cycle (data preparation, modeling, evaluation) to solve your ML problem. Answer the following questions:\n",
    "\n",
    "* Do you have a new feature list? If so, what are the features that you chose to keep and remove after inspecting the data? \n",
    "* Explain different data preparation techniques that you will use to prepare your data for modeling.\n",
    "* What is your model (or models)?\n",
    "* Describe your plan to train your model, analyze its performance and then improve the model. That is, describe your model building, validation and selection plan to produce a model that generalizes well to new data. "
   ]
  },
  {
   "cell_type": "markdown",
   "metadata": {},
   "source": [
    "I’ll represent each review with TF-IDF features (unigrams and bigrams) and add two simple numeric features: the review’s character count and word count. Very rare terms are filtered out later during hyper-parameter tuning. After vectorisation, the raw text column is no longer needed.\n",
    "\n",
    "The data will be split 75 %/25 % into training and test sets, and 20 % of the training data will be held out as a validation set.\n",
    "\n",
    "I’ll start with a baseline logistic-regression model that uses the TF-IDF matrix plus the scaled length features. Next, I’ll build a small feed-forward neural network in Keras (two hidden layers with 128 and 64 units, ReLU activations, and dropout for regularisation). The network will be trained with Adam and binary cross-entropy for up to 20 epochs, using early stopping on validation loss.\n",
    "\n",
    "Throughout training I’ll monitor loss and accuracy curves to watch for over- or under-fitting. Final evaluation on the test set will include accuracy, precision, recall, F1-score, ROC-AUC, and visualisations such as a confusion matrix and ROC curve.\n",
    "\n",
    "Finally, I’ll compare the neural network’s results with the logistic-regression baseline (and, if time allows, a tree-based model) and choose the simplest model that gives strong, generalisable performance."
   ]
  },
  {
   "cell_type": "markdown",
   "metadata": {},
   "source": [
    "## Part 5: Implement Your Project Plan\n",
    "\n",
    "<b>Task:</b> In the code cell below, import additional packages that you have used in this course that you will need to implement your project plan."
   ]
  },
  {
   "cell_type": "code",
   "execution_count": 349,
   "metadata": {},
   "outputs": [],
   "source": [
    "from sklearn.model_selection import train_test_split\n",
    "from sklearn.feature_extraction.text import TfidfVectorizer\n",
    "from sklearn.linear_model import LogisticRegression\n",
    "from sklearn.metrics import classification_report, roc_auc_score\n",
    "\n",
    "import tensorflow as tf\n",
    "from tensorflow import keras\n",
    "\n",
    "from sklearn.model_selection import train_test_split\n"
   ]
  },
  {
   "cell_type": "markdown",
   "metadata": {},
   "source": [
    "<b>Task:</b> Use the rest of this notebook to carry out your project plan. \n",
    "\n",
    "You will:\n",
    "\n",
    "1. Prepare your data for your model.\n",
    "2. Fit your model to the training data and evaluate your model.\n",
    "3. Improve your model's performance by performing model selection and/or feature selection techniques to find best model for your problem.\n",
    "\n",
    "Add code cells below and populate the notebook with commentary, code, analyses, results, and figures as you see fit. "
   ]
  },
  {
   "cell_type": "markdown",
   "metadata": {},
   "source": [
    "I split the data into train and test sets while keeping the positive-vs-negative balance. Then I built one preprocessing step that does two things at once: it turns the review text into TF-IDF features and it scales the two length columns. That gives every model a tidy, ready-made feature matrix."
   ]
  },
  {
   "cell_type": "code",
   "execution_count": 350,
   "metadata": {},
   "outputs": [],
   "source": [
    "# 3) Create X/y and do the train/test split\n",
    "X = df['Review']\n",
    "y = df['Positive Review']\n",
    "X_train, X_test, y_train, y_test = train_test_split(\n",
    "    X, y, train_size=0.75, stratify=y, random_state=42\n",
    ")\n",
    "X_train_df = pd.DataFrame({\n",
    "    \"Review\":     X_train.values,\n",
    "    \"char_count\": df.loc[X_train.index, \"char_count\"].values,\n",
    "    \"word_count\": df.loc[X_train.index, \"word_count\"].values\n",
    "})\n",
    "X_test_df = pd.DataFrame({\n",
    "    \"Review\":     X_test.values,\n",
    "    \"char_count\": df.loc[X_test.index,  \"char_count\"].values,\n",
    "    \"word_count\": df.loc[X_test.index,  \"word_count\"].values\n",
    "})\n",
    "from sklearn.compose import ColumnTransformer\n",
    "from sklearn.pipeline import Pipeline\n",
    "from sklearn.preprocessing import StandardScaler\n",
    "from sklearn.feature_extraction.text import TfidfVectorizer\n",
    "\n",
    "# 2a) text pipeline: TF-IDF on the Review column\n",
    "text_pipe = Pipeline([\n",
    "    (\"tfidf\", TfidfVectorizer(stop_words=\"english\"))\n",
    "])\n",
    "\n",
    "# 2b) numeric pipeline: scale your two counts\n",
    "num_pipe = Pipeline([\n",
    "    (\"scale\", StandardScaler())\n",
    "])\n",
    "\n",
    "# 2c) combine them\n",
    "preprocessor = ColumnTransformer([\n",
    "    # pass a *Series*  →  TfidfVectorizer sees 1479 docs\n",
    "    (\"text\", TfidfVectorizer(stop_words=\"english\"), \"Review\"),\n",
    "    (\"nums\", StandardScaler(), [\"char_count\", \"word_count\"]),\n",
    "])\n"
   ]
  },
  {
   "cell_type": "markdown",
   "metadata": {},
   "source": [
    "First, I pushed both the training and test splits through our single ColumnTransformer, turning every record into the same dense feature vector. Next, I trained a feed forward neural network with two hidden layers, using dropout for regularisation and the Adam optimiser. Once the model was trained, I evaluated it on the reserved test set and noted its loss, overall accuracy, a full classification report, and the ROC-AUC.\n"
   ]
  },
  {
   "cell_type": "code",
   "execution_count": 351,
   "metadata": {},
   "outputs": [
    {
     "name": "stdout",
     "output_type": "stream",
     "text": [
      "Epoch 1/20\n",
      "37/37 [==============================] - 1s 7ms/step - loss: 0.6863 - accuracy: 0.5917 - val_loss: 0.6763 - val_accuracy: 0.6757\n",
      "Epoch 2/20\n",
      "37/37 [==============================] - 0s 5ms/step - loss: 0.5616 - accuracy: 0.8555 - val_loss: 0.5512 - val_accuracy: 0.7264\n",
      "Epoch 3/20\n",
      "37/37 [==============================] - 0s 5ms/step - loss: 0.2028 - accuracy: 0.9780 - val_loss: 0.4274 - val_accuracy: 0.8041\n",
      "Epoch 4/20\n",
      "37/37 [==============================] - 0s 5ms/step - loss: 0.0329 - accuracy: 0.9992 - val_loss: 0.4854 - val_accuracy: 0.7736\n",
      "Epoch 5/20\n",
      "37/37 [==============================] - 0s 5ms/step - loss: 0.0113 - accuracy: 1.0000 - val_loss: 0.4740 - val_accuracy: 0.7669\n",
      "Epoch 6/20\n",
      "37/37 [==============================] - 0s 5ms/step - loss: 0.0047 - accuracy: 1.0000 - val_loss: 0.4905 - val_accuracy: 0.7703\n",
      "NN test loss: 0.4344 | accuracy: 0.8016\n",
      "\n",
      "Neural-net classification report:\n",
      "              precision    recall  f1-score   support\n",
      "\n",
      "       False       0.81      0.80      0.80       249\n",
      "        True       0.80      0.80      0.80       245\n",
      "\n",
      "    accuracy                           0.80       494\n",
      "   macro avg       0.80      0.80      0.80       494\n",
      "weighted avg       0.80      0.80      0.80       494\n",
      "\n",
      "ROC-AUC: 0.8768953364478321\n"
     ]
    }
   ],
   "source": [
    "# ── Build feature matrices via the unified preprocessor ──────────────\n",
    "X_train_pre = preprocessor.fit_transform(X_train_df)   # sparse matrix\n",
    "X_test_pre  = preprocessor.transform(X_test_df)\n",
    "\n",
    "# ── 1) Define the neural network ─────────────────────────────────────\n",
    "nn_model = keras.Sequential([\n",
    "    keras.layers.InputLayer(input_shape=(X_train_pre.shape[1],)),\n",
    "    keras.layers.Dense(128, activation=\"relu\"),\n",
    "    keras.layers.Dropout(0.30),\n",
    "    keras.layers.Dense(64,  activation=\"relu\"),\n",
    "    keras.layers.Dropout(0.30),\n",
    "    keras.layers.Dense(1,   activation=\"sigmoid\")\n",
    "])\n",
    "\n",
    "# ── 2) Compile ───────────────────────────────────────────────────────\n",
    "nn_model.compile(optimizer=\"adam\",\n",
    "                 loss=\"binary_crossentropy\",\n",
    "                 metrics=[\"accuracy\"])\n",
    "\n",
    "# ── 3) Train ─────────────────────────────────────────────────────────\n",
    "early_stop = keras.callbacks.EarlyStopping(monitor=\"val_loss\",\n",
    "                                           patience=3,\n",
    "                                           restore_best_weights=True)\n",
    "\n",
    "history = nn_model.fit(\n",
    "    X_train_pre.toarray(),     # dense for TF\n",
    "    y_train,\n",
    "    validation_split=0.2,\n",
    "    epochs=20,\n",
    "    batch_size=32,\n",
    "    callbacks=[early_stop],\n",
    "    verbose=1\n",
    ")\n",
    "\n",
    "# ── 4) Evaluate ──────────────────────────────────────────────────────\n",
    "loss_nn, acc_nn = nn_model.evaluate(X_test_pre.toarray(), y_test, verbose=0)\n",
    "print(f\"NN test loss: {loss_nn:.4f} | accuracy: {acc_nn:.4f}\")\n",
    "\n",
    "y_prob_nn = nn_model.predict(X_test_pre.toarray()).ravel()\n",
    "y_pred_nn = (y_prob_nn >= 0.5).astype(int)\n",
    "\n",
    "print(\"\\nNeural-net classification report:\")\n",
    "print(classification_report(y_test, y_pred_nn))\n",
    "print(\"ROC-AUC:\", roc_auc_score(y_test, y_prob_nn))\n"
   ]
  },
  {
   "cell_type": "markdown",
   "metadata": {},
   "source": [
    "I’ll create a Seaborn heat map of the logistic regression confusion matrix four rows by four columns adding clear axis labels for actual versus predicted classes and a descriptive title on top.\n"
   ]
  },
  {
   "cell_type": "code",
   "execution_count": 352,
   "metadata": {},
   "outputs": [
    {
     "data": {
      "image/png": "[encoded data removed]",
      "text/plain": [
       "<Figure size 400x400 with 2 Axes>"
      ]
     },
     "metadata": {},
     "output_type": "display_data"
    }
   ],
   "source": [
    "# Plot confusion matrix for logistic regression\n",
    "import matplotlib.pyplot as plt\n",
    "import seaborn as sns\n",
    "\n",
    "cm_lr = confusion_matrix(y_test, y_pred_lr)\n",
    "plt.figure(figsize=(4,4))\n",
    "sns.heatmap(cm_lr, annot=True, fmt=\"d\", cmap=\"Blues\")\n",
    "plt.xlabel(\"Predicted\")\n",
    "plt.ylabel(\"Actual\")\n",
    "plt.title(\"Logistic Regression Confusion Matrix\")\n",
    "plt.show()\n"
   ]
  },
  {
   "cell_type": "markdown",
   "metadata": {},
   "source": [
    "Next, I’ll draw the ROC curve for the logistic-regression model—plotting the true-positive vs. false-positive rates, adding the dashed “no-skill” diagonal for reference, annotating the curve with its AUC score, and finishing it off with clear axis labels and a descriptive title.\n"
   ]
  },
  {
   "cell_type": "code",
   "execution_count": 353,
   "metadata": {},
   "outputs": [
    {
     "data": {
      "image/png": "[encoded data removed]",
      "text/plain": [
       "<Figure size 600x400 with 1 Axes>"
      ]
     },
     "metadata": {},
     "output_type": "display_data"
    }
   ],
   "source": [
    "# Plot ROC curve for logistic regression\n",
    "fpr_lr, tpr_lr, _ = roc_curve(y_test, y_prob_lr)\n",
    "plt.figure(figsize=(6,4))\n",
    "plt.plot(fpr_lr, tpr_lr, label=f\"Logistic AUC = {auc(fpr_lr, tpr_lr):.2f}\")\n",
    "plt.plot([0,1],[0,1],\"--\", color=\"gray\")\n",
    "plt.xlabel(\"False Positive Rate\")\n",
    "plt.ylabel(\"True Positive Rate\")\n",
    "plt.title(\"ROC Curve — Logistic Regression\")\n",
    "plt.legend()\n",
    "plt.show()\n"
   ]
  },
  {
   "cell_type": "markdown",
   "metadata": {},
   "source": [
    "I ran the neural network against the unseen test data, printed its loss and accuracy, then produced both the raw probability scores and the final class predictions. Finally, I summarized the results in a full classification report and quoted the model’s ROC-AUC so you can see how well it distinguishes positives from negatives."
   ]
  },
  {
   "cell_type": "code",
   "execution_count": 354,
   "metadata": {},
   "outputs": [
    {
     "name": "stdout",
     "output_type": "stream",
     "text": [
      "Neural Net Test Loss: 0.4344, Test Accuracy: 0.8016\n",
      "\n",
      "Neural Network classification report:\n",
      "              precision    recall  f1-score   support\n",
      "\n",
      "       False       0.81      0.80      0.80       249\n",
      "        True       0.80      0.80      0.80       245\n",
      "\n",
      "    accuracy                           0.80       494\n",
      "   macro avg       0.80      0.80      0.80       494\n",
      "weighted avg       0.80      0.80      0.80       494\n",
      "\n",
      "Neural Net ROC‑AUC: 0.8768953364478321\n"
     ]
    }
   ],
   "source": [
    "# Neural Network evaluation on test set\n",
    "\n",
    "print(f\"Neural Net Test Loss: {loss_nn:.4f}, Test Accuracy: {acc_nn:.4f}\")\n",
    "\n",
    "# Generate predictions & probabilities\n",
    "\n",
    "y_pred_nn = (y_prob_nn >= 0.5).astype(int)\n",
    "\n",
    "print(\"\\nNeural Network classification report:\")\n",
    "print(classification_report(y_test, y_pred_nn))\n",
    "print(\"Neural Net ROC‑AUC:\", roc_auc_score(y_test, y_prob_nn))\n"
   ]
  },
  {
   "cell_type": "markdown",
   "metadata": {},
   "source": [
    "I illustrated the neural network’s mistakes with an easy-to-read confusion matrix, styled in green tones so the error patterns really pop."
   ]
  },
  {
   "cell_type": "code",
   "execution_count": 355,
   "metadata": {},
   "outputs": [
    {
     "data": {
      "image/png": "[encoded data removed]",
      "text/plain": [
       "<Figure size 400x400 with 2 Axes>"
      ]
     },
     "metadata": {},
     "output_type": "display_data"
    }
   ],
   "source": [
    "# Plot confusion matrix for neural network\n",
    "cm_nn = confusion_matrix(y_test, y_pred_nn)\n",
    "plt.figure(figsize=(4,4))\n",
    "sns.heatmap(cm_nn, annot=True, fmt=\"d\", cmap=\"Greens\")\n",
    "plt.xlabel(\"Predicted\")\n",
    "plt.ylabel(\"Actual\")\n",
    "plt.title(\"Neural Network Confusion Matrix\")\n",
    "plt.show()\n"
   ]
  },
  {
   "cell_type": "markdown",
   "metadata": {},
   "source": [
    "I plotted the neural network’s ROC curve, added the 45-degree reference line, and showed the model’s AUC right in the legend."
   ]
  },
  {
   "cell_type": "code",
   "execution_count": 356,
   "metadata": {},
   "outputs": [
    {
     "data": {
      "image/png": "[encoded data removed]",
      "text/plain": [
       "<Figure size 600x400 with 1 Axes>"
      ]
     },
     "metadata": {},
     "output_type": "display_data"
    }
   ],
   "source": [
    "# Plot ROC curve for neural network\n",
    "fpr_nn, tpr_nn, _ = roc_curve(y_test, y_prob_nn)\n",
    "plt.figure(figsize=(6,4))\n",
    "plt.plot(fpr_nn, tpr_nn, label=f\"Neural Net AUC = {auc(fpr_nn, tpr_nn):.2f}\")\n",
    "plt.plot([0,1],[0,1],\"--\", color=\"gray\")\n",
    "plt.xlabel(\"False Positive Rate\")\n",
    "plt.ylabel(\"True Positive Rate\")\n",
    "plt.title(\"ROC Curve — Neural Network\")\n",
    "plt.legend()\n",
    "plt.show()\n",
    "\n"
   ]
  },
  {
   "cell_type": "markdown",
   "metadata": {},
   "source": [
    "I built an end-to-end scikit-learn pipeline that first unifies the text and numeric features in a single preprocessing step, then feeds them into a logistic-regression classifier. Using five-fold GridSearchCV, I tuned the TF-IDF vectorizer settings and the model’s regularization strengths to find the best combination. Finally, I evaluated the top-scoring model on the held-out test set to obtain an unbiased performance estimate."
   ]
  },
  {
   "cell_type": "code",
   "execution_count": 357,
   "metadata": {},
   "outputs": [
    {
     "name": "stdout",
     "output_type": "stream",
     "text": [
      "Fitting 5 folds for each of 96 candidates, totalling 480 fits\n",
      "Best CV params: {'clf__C': 10, 'clf__penalty': 'l2', 'prep__text__max_df': 0.8, 'prep__text__min_df': 2, 'prep__text__ngram_range': (1, 2)}\n",
      "Test ROC-AUC: 0.9033194000491762\n",
      "\n",
      "Classification Report:\n",
      "              precision    recall  f1-score   support\n",
      "\n",
      "       False       0.82      0.80      0.81       249\n",
      "        True       0.80      0.82      0.81       245\n",
      "\n",
      "    accuracy                           0.81       494\n",
      "   macro avg       0.81      0.81      0.81       494\n",
      "weighted avg       0.81      0.81      0.81       494\n",
      "\n"
     ]
    }
   ],
   "source": [
    "from sklearn.compose       import ColumnTransformer\n",
    "from sklearn.pipeline      import Pipeline\n",
    "from sklearn.preprocessing import StandardScaler\n",
    "from sklearn.feature_extraction.text import TfidfVectorizer\n",
    "from sklearn.linear_model  import LogisticRegression\n",
    "from sklearn.model_selection import GridSearchCV\n",
    "from sklearn.metrics       import roc_auc_score, classification_report\n",
    "\n",
    "# ── 1) Build your \"wide\" train/test DataFrames (you already have these) ──\n",
    "# X_train_df, X_test_df containing Review, char_count, word_count\n",
    "\n",
    "# ── 2) Define a single ColumnTransformer (no inner Pipeline needed) ──\n",
    "preprocessor = ColumnTransformer([\n",
    "    # TEXT: TF-IDF on \"Review\"\n",
    "    (\"text\", TfidfVectorizer(stop_words=\"english\"), \"Review\"),\n",
    "    # NUMS: scale the two counts\n",
    "    (\"nums\", StandardScaler(), [\"char_count\", \"word_count\"]),\n",
    "])\n",
    "\n",
    "# ── 3) Wrap it in one Pipeline ──\n",
    "pipe = Pipeline([\n",
    "    (\"prep\", preprocessor),\n",
    "    (\"clf\",  LogisticRegression(solver=\"liblinear\", max_iter=1000)),\n",
    "])\n",
    "\n",
    "# ── 4) Grid over only valid TF-IDF proportions (<1.0) and your LR hyperparams ──\n",
    "param_grid = {\n",
    "    \"prep__text__min_df\":      [2, 5, 10],     # drop terms in fewer than N docs\n",
    "    \"prep__text__max_df\":      [0.8, 0.9],     # drop terms in >80% or 90% of docs\n",
    "    \"prep__text__ngram_range\": [(1,1), (1,2)],\n",
    "    \"clf__penalty\":            [\"l1\", \"l2\"],\n",
    "    \"clf__C\":                  [0.01, 0.1, 1, 10],\n",
    "}\n",
    "\n",
    "gs = GridSearchCV(\n",
    "    pipe,\n",
    "    param_grid,\n",
    "    cv=5,\n",
    "    scoring=\"roc_auc\",\n",
    "    n_jobs=-1,\n",
    "    verbose=1,\n",
    ")\n",
    "\n",
    "# ── 5) Fit & evaluate on your wide DataFrames ──\n",
    "gs.fit(X_train_df, y_train)\n",
    "\n",
    "print(\"Best CV params:\", gs.best_params_)\n",
    "\n",
    "test_probs = gs.predict_proba(X_test_df)[:, 1]\n",
    "test_preds = (test_probs >= 0.5).astype(int)\n",
    "\n",
    "print(\"Test ROC-AUC:\", roc_auc_score(y_test, test_probs))\n",
    "print(\"\\nClassification Report:\")\n",
    "print(classification_report(y_test, test_preds))\n"
   ]
  },
  {
   "cell_type": "markdown",
   "metadata": {},
   "source": [
    "After running several models and tuning their hyper-parameters, the regularised logistic-regression pipeline came out on top. With a test-set ROC-AUC of 0.903 and a balanced F1 score of about 0.81, it edges out the neural-network baseline (ROC-AUC ≈ 0.87, F1 ≈ 0.78).\n",
    "The simpler model wins because, once the reviews are converted to TF-IDF features, the problem is largely linearly separable; the neural net, by contrast, quickly memorises the training data (training accuracy ~100 %) and starts to over-fit, so its validation performance plateaus around 0.80.\n",
    "A further advantage of the logistic model is that it’s easy to interpret—each weight directly reflects the importance of a word or phrase—and it has a tiny memory and CPU footprint, making it ideal for real-time sentiment tagging in a production pipeline.\n"
   ]
  }
 ],
 "metadata": {
  "kernelspec": {
   "display_name": "Python 3 (ipykernel)",
   "language": "python",
   "name": "python3"
  },
  "language_info": {
   "codemirror_mode": {
    "name": "ipython",
    "version": 3
   },
   "file_extension": ".py",
   "mimetype": "text/x-python",
   "name": "python",
   "nbconvert_exporter": "python",
   "pygments_lexer": "ipython3",
   "version": "3.9.19"
  },
  "toc": {
   "base_numbering": 1,
   "nav_menu": {},
   "number_sections": false,
   "sideBar": true,
   "skip_h1_title": false,
   "title_cell": "Table of Contents",
   "title_sidebar": "Contents",
   "toc_cell": false,
   "toc_position": {},
   "toc_section_display": true,
   "toc_window_display": false
  },
  "varInspector": {
   "cols": {
    "lenName": 16,
    "lenType": 16,
    "lenVar": 40
   },
   "kernels_config": {
    "python": {
     "delete_cmd_postfix": "",
     "delete_cmd_prefix": "del ",
     "library": "var_list.py",
     "varRefreshCmd": "print(var_dic_list())"
    },
    "r": {
     "delete_cmd_postfix": ") ",
     "delete_cmd_prefix": "rm(",
     "library": "var_list.r",
     "varRefreshCmd": "cat(var_dic_list()) "
    }
   },
   "types_to_exclude": [
    "module",
    "function",
    "builtin_function_or_method",
    "instance",
    "_Feature"
   ],
   "window_display": false
  }
 },
 "nbformat": 4,
 "nbformat_minor": 4
}
